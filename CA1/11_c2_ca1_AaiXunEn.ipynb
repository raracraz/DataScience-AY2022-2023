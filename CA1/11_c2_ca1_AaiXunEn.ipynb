{
 "cells": [
  {
   "cell_type": "code",
   "execution_count": null,
   "metadata": {},
   "outputs": [],
   "source": []
  }
 ],
 "metadata": {
  "kernelspec": {
   "display_name": "Python 3.10.5 64-bit (windows store)",
   "language": "python",
   "name": "python3"
  },
  "language_info": {
   "name": "python",
   "version": "3.10.5"
  },
  "orig_nbformat": 4,
  "vscode": {
   "interpreter": {
    "hash": "7959011f7c65b6277518dac78edd11ca4ca331adbf641f303d55a67ad931e17d"
   }
  }
 },
 "nbformat": 4,
 "nbformat_minor": 2
}
